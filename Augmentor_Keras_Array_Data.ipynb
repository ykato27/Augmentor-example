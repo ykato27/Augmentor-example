{
  "nbformat": 4,
  "nbformat_minor": 0,
  "metadata": {
    "kernelspec": {
      "name": "python3",
      "display_name": "Python 3"
    },
    "colab": {
      "name": "Augmentor_Keras_Array_Data.ipynb",
      "provenance": [],
      "collapsed_sections": [],
      "include_colab_link": true
    },
    "language_info": {
      "name": "python"
    }
  },
  "cells": [
    {
      "cell_type": "markdown",
      "metadata": {
        "id": "view-in-github",
        "colab_type": "text"
      },
      "source": [
        "<a href=\"https://colab.research.google.com/github/ykato27/Augmentor-example/blob/main/Augmentor_Keras_Array_Data.ipynb\" target=\"_parent\"><img src=\"https://colab.research.google.com/assets/colab-badge.svg\" alt=\"Open In Colab\"/></a>"
      ]
    },
    {
      "cell_type": "markdown",
      "metadata": {
        "deletable": true,
        "editable": true,
        "id": "vYP6ELStNEWr"
      },
      "source": [
        "# Augmenting Data from Other Data Sources\n",
        "\n",
        "In this notebook, we will use Augmentor to process images that are stored in memory, and are not read locally from a directory on a hard disk.\n",
        "\n",
        "To demonstrate this, we will use Keras to access the MNIST dataset, which is part of the `keras.datasets` module.\n",
        "\n",
        "Note: you can view a tutorial on using Augmentor with your own images, here <https://github.com/mdbloice/Augmentor/blob/master/notebooks/Augmentor_Keras.ipynb> \n",
        "\n",
        "First we make a number of imports:"
      ]
    },
    {
      "cell_type": "code",
      "metadata": {
        "colab": {
          "base_uri": "https://localhost:8080/"
        },
        "id": "MwUdH8J6NMPG",
        "outputId": "673aae3d-2473-4b00-a8bd-bfd6559bd9ae"
      },
      "source": [
        "!pip install Augmentor"
      ],
      "execution_count": 1,
      "outputs": [
        {
          "output_type": "stream",
          "text": [
            "Collecting Augmentor\n",
            "  Downloading Augmentor-0.2.8-py2.py3-none-any.whl (38 kB)\n",
            "Requirement already satisfied: future>=0.16.0 in /usr/local/lib/python3.7/dist-packages (from Augmentor) (0.16.0)\n",
            "Requirement already satisfied: tqdm>=4.9.0 in /usr/local/lib/python3.7/dist-packages (from Augmentor) (4.41.1)\n",
            "Requirement already satisfied: numpy>=1.11.0 in /usr/local/lib/python3.7/dist-packages (from Augmentor) (1.19.5)\n",
            "Requirement already satisfied: Pillow>=5.2.0 in /usr/local/lib/python3.7/dist-packages (from Augmentor) (7.1.2)\n",
            "Installing collected packages: Augmentor\n",
            "Successfully installed Augmentor-0.2.8\n"
          ],
          "name": "stdout"
        }
      ]
    },
    {
      "cell_type": "code",
      "metadata": {
        "deletable": true,
        "editable": true,
        "id": "sIGNsaT8NEWx"
      },
      "source": [
        "import Augmentor\n",
        "\n",
        "import keras\n",
        "from keras.models import Sequential\n",
        "from keras.layers import Dense, Dropout, Flatten\n",
        "from keras.layers import Conv2D, MaxPooling2D\n",
        "from keras.datasets import mnist\n",
        "\n",
        "import numpy as np\n",
        "\n",
        "import matplotlib.pyplot as plt\n",
        "%matplotlib inline"
      ],
      "execution_count": 2,
      "outputs": []
    },
    {
      "cell_type": "markdown",
      "metadata": {
        "deletable": true,
        "editable": true,
        "id": "e4LYe-AbNEW0"
      },
      "source": [
        "## Get MNIST Data\n",
        "\n",
        "To get the MNIST digit data, we can just called `load_data()` from the `datasets` module. Keras comes with a number of pre-arranged data sets for testing and experimentation."
      ]
    },
    {
      "cell_type": "code",
      "metadata": {
        "collapsed": true,
        "deletable": true,
        "editable": true,
        "colab": {
          "base_uri": "https://localhost:8080/"
        },
        "id": "Nz3_v-AENEW1",
        "outputId": "a5609e59-91ff-485b-cb3f-5942eadb4045"
      },
      "source": [
        "(x_train, y_train), (x_test, y_test) = mnist.load_data()"
      ],
      "execution_count": 3,
      "outputs": [
        {
          "output_type": "stream",
          "text": [
            "Downloading data from https://storage.googleapis.com/tensorflow/tf-keras-datasets/mnist.npz\n",
            "11493376/11490434 [==============================] - 0s 0us/step\n",
            "11501568/11490434 [==============================] - 0s 0us/step\n"
          ],
          "name": "stdout"
        }
      ]
    },
    {
      "cell_type": "markdown",
      "metadata": {
        "deletable": true,
        "editable": true,
        "id": "kp2CM4FANEW1"
      },
      "source": [
        "Because we are going to feed the network categorical data, we should convert `y_train` and `y_test`:"
      ]
    },
    {
      "cell_type": "code",
      "metadata": {
        "deletable": true,
        "editable": true,
        "id": "3Zn33pRZNEW2"
      },
      "source": [
        "y_train = Augmentor.Pipeline.categorical_labels(y_train)\n",
        "y_test = Augmentor.Pipeline.categorical_labels(y_test)"
      ],
      "execution_count": 4,
      "outputs": []
    },
    {
      "cell_type": "markdown",
      "metadata": {
        "deletable": true,
        "editable": true,
        "id": "pp44sHnmNEW2"
      },
      "source": [
        "### MNIST Data Format\n",
        "\n",
        "Let's examine the type and shape of the MNIST data:"
      ]
    },
    {
      "cell_type": "code",
      "metadata": {
        "deletable": true,
        "editable": true,
        "colab": {
          "base_uri": "https://localhost:8080/"
        },
        "id": "zPAY3fmANEW3",
        "outputId": "48547801-5e8a-4dca-e157-6663e1b44753"
      },
      "source": [
        "num_images, width, height = np.shape(x_train)\n",
        "print(\"The matrix x_train contains %s images, with dimenions of %s x %s.\" % (num_images, width, height))"
      ],
      "execution_count": 5,
      "outputs": [
        {
          "output_type": "stream",
          "text": [
            "The matrix x_train contains 60000 images, with dimenions of 28 x 28.\n"
          ],
          "name": "stdout"
        }
      ]
    },
    {
      "cell_type": "markdown",
      "metadata": {
        "deletable": true,
        "editable": true,
        "id": "eqQHl-y0NEW5"
      },
      "source": [
        "If we take a look at one row of the matrix, let's say at index 0, you will see it contains a single image of shape (28, 28):"
      ]
    },
    {
      "cell_type": "code",
      "metadata": {
        "deletable": true,
        "editable": true,
        "colab": {
          "base_uri": "https://localhost:8080/"
        },
        "id": "2ouGmbGqNEW5",
        "outputId": "f290f916-38e6-4a99-cb9b-feec0893a7b7"
      },
      "source": [
        "np.shape(x_train[0])"
      ],
      "execution_count": 6,
      "outputs": [
        {
          "output_type": "execute_result",
          "data": {
            "text/plain": [
              "(28, 28)"
            ]
          },
          "metadata": {
            "tags": []
          },
          "execution_count": 6
        }
      ]
    },
    {
      "cell_type": "markdown",
      "metadata": {
        "deletable": true,
        "editable": true,
        "id": "R3XOXNM3NEW7"
      },
      "source": [
        "We can use matplotlib's `imshow` function to render this array as an image:"
      ]
    },
    {
      "cell_type": "code",
      "metadata": {
        "deletable": true,
        "editable": true,
        "colab": {
          "base_uri": "https://localhost:8080/",
          "height": 265
        },
        "id": "02_rX7wxNEW7",
        "outputId": "0fa674bb-cc7d-471c-8024-26506125a54a"
      },
      "source": [
        "plt.imshow(x_train[0], cmap=\"Greys\");"
      ],
      "execution_count": 7,
      "outputs": [
        {
          "output_type": "display_data",
          "data": {
            "image/png": "[encoded data removed]",
            "text/plain": [
              "<Figure size 432x288 with 1 Axes>"
            ]
          },
          "metadata": {
            "tags": [],
            "needs_background": "light"
          }
        }
      ]
    },
    {
      "cell_type": "markdown",
      "metadata": {
        "deletable": true,
        "editable": true,
        "id": "qVRcwfcjNEW8"
      },
      "source": [
        "Later, we will pass this entire matrix, containing 60,000 images, to an Augmentor function, which will generate batches of augmented images from this original data."
      ]
    },
    {
      "cell_type": "markdown",
      "metadata": {
        "deletable": true,
        "editable": true,
        "id": "S0oQjyJ5NEW8"
      },
      "source": [
        "## Create a Pipeline\n",
        "\n",
        "It is perfectly fine to create a pipeline object without needing to point to a directory on your hard drive. Do this if you want to perform an augmentation task on data from another location, such as from the web or another framework such as Keras."
      ]
    },
    {
      "cell_type": "code",
      "metadata": {
        "collapsed": true,
        "deletable": true,
        "editable": true,
        "id": "fx1ut3-iNEW9"
      },
      "source": [
        "p = Augmentor.Pipeline()"
      ],
      "execution_count": 8,
      "outputs": []
    },
    {
      "cell_type": "markdown",
      "metadata": {
        "deletable": true,
        "editable": true,
        "id": "IZ9l8Bf3NEW9"
      },
      "source": [
        "If you then check the pipeline `p`'s status, you will see it has no images or classes associated with it:"
      ]
    },
    {
      "cell_type": "code",
      "metadata": {
        "deletable": true,
        "editable": true,
        "colab": {
          "base_uri": "https://localhost:8080/"
        },
        "id": "vlcaxlzlNEW9",
        "outputId": "15192551-0bc5-405d-8401-9809a6e7ebc0"
      },
      "source": [
        "p.status()"
      ],
      "execution_count": 9,
      "outputs": [
        {
          "output_type": "stream",
          "text": [
            "Operations: 0\n",
            "Images: 0\n",
            "\n",
            "You can remove operations using the appropriate index and the remove_operation(index) function.\n"
          ],
          "name": "stdout"
        }
      ]
    },
    {
      "cell_type": "markdown",
      "metadata": {
        "deletable": true,
        "editable": true,
        "id": "zeWDnsAONEW-"
      },
      "source": [
        "Adding operations is done as normal: "
      ]
    },
    {
      "cell_type": "code",
      "metadata": {
        "deletable": true,
        "editable": true,
        "colab": {
          "base_uri": "https://localhost:8080/"
        },
        "id": "gXSDxfUJNEW-",
        "outputId": "59334f5d-bf4e-4fe0-8f98-81f57046df2b"
      },
      "source": [
        "p.rotate(probability=1, max_left_rotation=5, max_right_rotation=5)\n",
        "p.status()"
      ],
      "execution_count": 10,
      "outputs": [
        {
          "output_type": "stream",
          "text": [
            "Operations: 1\n",
            "\t0: RotateRange (probability=1 max_left_rotation=-5 max_right_rotation=5 )\n",
            "Images: 0\n",
            "\n",
            "You can remove operations using the appropriate index and the remove_operation(index) function.\n"
          ],
          "name": "stdout"
        }
      ]
    },
    {
      "cell_type": "markdown",
      "metadata": {
        "deletable": true,
        "editable": true,
        "id": "1xQNPBN2NEW_"
      },
      "source": [
        "## Design a Neural Network\n",
        "\n",
        "We will use a simple convolutional neural network using Keras to train a model using the augmented MNIST data:"
      ]
    },
    {
      "cell_type": "code",
      "metadata": {
        "deletable": true,
        "editable": true,
        "id": "3WtlN3CaNEW_"
      },
      "source": [
        "num_classes = 10\n",
        "input_shape = (28, 28, 1)\n",
        "\n",
        "model = Sequential()\n",
        "model.add(Conv2D(32, kernel_size=(3, 3),\n",
        "                 activation='relu',\n",
        "                 input_shape=input_shape))\n",
        "model.add(Conv2D(64, (3, 3), activation='relu'))\n",
        "model.add(MaxPooling2D(pool_size=(2, 2)))\n",
        "model.add(Dropout(0.25))\n",
        "model.add(Flatten())\n",
        "model.add(Dense(128, activation='relu'))\n",
        "model.add(Dropout(0.5))\n",
        "model.add(Dense(num_classes, activation='softmax'))"
      ],
      "execution_count": 11,
      "outputs": []
    },
    {
      "cell_type": "markdown",
      "metadata": {
        "deletable": true,
        "editable": true,
        "id": "DXJzUzCQNEW_"
      },
      "source": [
        "Once a network has been defined, you can compile it so that the model is ready to be trained with data:"
      ]
    },
    {
      "cell_type": "code",
      "metadata": {
        "deletable": true,
        "editable": true,
        "id": "vkwr5hzNNEXA"
      },
      "source": [
        "model.compile(loss=keras.losses.categorical_crossentropy,\n",
        "              optimizer=keras.optimizers.Adadelta(),\n",
        "              metrics=['accuracy'])"
      ],
      "execution_count": 12,
      "outputs": []
    },
    {
      "cell_type": "markdown",
      "metadata": {
        "deletable": true,
        "editable": true,
        "id": "fyT0McvGNEXA"
      },
      "source": [
        "Now that the network is ready, we can create a generator using Augmentor, and pass this generator to the neural network created above."
      ]
    },
    {
      "cell_type": "markdown",
      "metadata": {
        "deletable": true,
        "editable": true,
        "id": "dz751SksNEXA"
      },
      "source": [
        "## Create a Generator\n",
        "\n",
        "Now, you can use the MNIST data you gathered earlier and use this to create an generator. The generator will augment the data that you pass to it indefinitely and this can be fed into a neural network in order to train it. In this case we will use the images stored in the matrix `x_train` and their corresponding labels stored in the `y_train` array.\n",
        "\n",
        "We will use the generator later, so we will stored in a variable `g`:"
      ]
    },
    {
      "cell_type": "code",
      "metadata": {
        "deletable": true,
        "editable": true,
        "id": "B4LSW3hWNEXA"
      },
      "source": [
        "batch_size = 128\n",
        "g = p.keras_generator_from_array(x_train, y_train, batch_size=10)"
      ],
      "execution_count": 13,
      "outputs": []
    },
    {
      "cell_type": "markdown",
      "metadata": {
        "deletable": true,
        "editable": true,
        "id": "pZ662CzRNEXB"
      },
      "source": [
        "We can take a look at what the generator outputs (the generator returns a batch of images and a batch of corresponding labels as a tuple):"
      ]
    },
    {
      "cell_type": "code",
      "metadata": {
        "collapsed": true,
        "deletable": true,
        "editable": true,
        "id": "U1xSprKENEXB"
      },
      "source": [
        "X, y = next(g)"
      ],
      "execution_count": 14,
      "outputs": []
    },
    {
      "cell_type": "markdown",
      "metadata": {
        "deletable": true,
        "editable": true,
        "id": "hH3Nl89eNEXB"
      },
      "source": [
        "Let's take a look at the ouput of one image, again using index 0 from the batch of images returned by the generator:"
      ]
    },
    {
      "cell_type": "code",
      "metadata": {
        "deletable": true,
        "editable": true,
        "colab": {
          "base_uri": "https://localhost:8080/",
          "height": 282
        },
        "id": "UwXP9_SyNEXC",
        "outputId": "0daaafab-e392-43fa-8f17-62296a02c8a8"
      },
      "source": [
        "plt.imshow(X[0].reshape(28,28), cmap=\"Greys\")"
      ],
      "execution_count": 15,
      "outputs": [
        {
          "output_type": "execute_result",
          "data": {
            "text/plain": [
              "<matplotlib.image.AxesImage at 0x7f78995aa810>"
            ]
          },
          "metadata": {
            "tags": []
          },
          "execution_count": 15
        },
        {
          "output_type": "display_data",
          "data": {
            "image/png": "[encoded data removed]",
            "text/plain": [
              "<Figure size 432x288 with 1 Axes>"
            ]
          },
          "metadata": {
            "tags": [],
            "needs_background": "light"
          }
        }
      ]
    },
    {
      "cell_type": "markdown",
      "metadata": {
        "deletable": true,
        "editable": true,
        "id": "z-YWTSMSNEXC"
      },
      "source": [
        "It's label should also correspond to the image shown above, which we can access using `y`:"
      ]
    },
    {
      "cell_type": "code",
      "metadata": {
        "deletable": true,
        "editable": true,
        "colab": {
          "base_uri": "https://localhost:8080/"
        },
        "id": "OoXam30iNEXC",
        "outputId": "5d426af7-499f-4171-9688-8e03fd369ba2"
      },
      "source": [
        "print(\"The image above has the label %s.\" % int(np.nonzero(y[0])[0]))"
      ],
      "execution_count": 16,
      "outputs": [
        {
          "output_type": "stream",
          "text": [
            "The image above has the label 2.\n"
          ],
          "name": "stdout"
        }
      ]
    },
    {
      "cell_type": "markdown",
      "metadata": {
        "deletable": true,
        "editable": true,
        "id": "YeTg9BI1NEXD"
      },
      "source": [
        "## Fit the Model using the Generator\n",
        "\n",
        "Now we can fit the model using our generator:"
      ]
    },
    {
      "cell_type": "code",
      "metadata": {
        "deletable": true,
        "editable": true,
        "colab": {
          "base_uri": "https://localhost:8080/"
        },
        "id": "3pHnAGQfNEXD",
        "outputId": "f52d7bff-9641-4521-bd4d-1c6a5482f599"
      },
      "source": [
        "h = model.fit_generator(g, steps_per_epoch=len(x_train)/batch_size, epochs=10, verbose=1)"
      ],
      "execution_count": 17,
      "outputs": [
        {
          "output_type": "stream",
          "text": [
            "Epoch 1/10\n"
          ],
          "name": "stdout"
        },
        {
          "output_type": "stream",
          "text": [
            "/usr/local/lib/python3.7/dist-packages/keras/engine/training.py:1915: UserWarning: `Model.fit_generator` is deprecated and will be removed in a future version. Please use `Model.fit`, which supports generators.\n",
            "  warnings.warn('`Model.fit_generator` is deprecated and '\n"
          ],
          "name": "stderr"
        },
        {
          "output_type": "stream",
          "text": [
            "468/468 [==============================] - 37s 43ms/step - loss: 2.3082 - accuracy: 0.0916\n",
            "Epoch 2/10\n",
            "468/468 [==============================] - 18s 39ms/step - loss: 2.2888 - accuracy: 0.1156\n",
            "Epoch 3/10\n",
            "468/468 [==============================] - 18s 39ms/step - loss: 2.2719 - accuracy: 0.1628\n",
            "Epoch 4/10\n",
            "468/468 [==============================] - 19s 41ms/step - loss: 2.2552 - accuracy: 0.1911\n",
            "Epoch 5/10\n",
            "468/468 [==============================] - 19s 41ms/step - loss: 2.2376 - accuracy: 0.2208\n",
            "Epoch 6/10\n",
            "468/468 [==============================] - 19s 40ms/step - loss: 2.2122 - accuracy: 0.2845\n",
            "Epoch 7/10\n",
            "468/468 [==============================] - 19s 40ms/step - loss: 2.1960 - accuracy: 0.3161\n",
            "Epoch 8/10\n",
            "468/468 [==============================] - 20s 43ms/step - loss: 2.1675 - accuracy: 0.3672\n",
            "Epoch 9/10\n",
            "468/468 [==============================] - 19s 40ms/step - loss: 2.1468 - accuracy: 0.3736\n",
            "Epoch 10/10\n",
            "468/468 [==============================] - 19s 40ms/step - loss: 2.1032 - accuracy: 0.4395\n"
          ],
          "name": "stdout"
        }
      ]
    },
    {
      "cell_type": "markdown",
      "metadata": {
        "id": "hCkV2XDQNEXD"
      },
      "source": [
        "## Summary\n",
        "You can use data loaded into memory rather than reading from disk using Augmentor's `keras_generator_from_array` function. This has the advantage that the online augmentation is much faster than when reading from disk."
      ]
    }
  ]
}